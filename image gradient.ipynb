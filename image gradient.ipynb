{
 "cells": [
  {
   "cell_type": "code",
   "execution_count": null,
   "metadata": {},
   "outputs": [],
   "source": [
    "# it is edge detection method \n",
    "#if we want to extract color and its intensity the we use this and img must in ggray color\n",
    "# it is 2 type 1.laplas 2.sobel x and sobel y\n",
    "\n",
    "import  cv2\n",
    "import numpy as np\n",
    "img=cv2.imread(\"C:\\\\Users\\\\puni\\\\Desktop\\\\build.jpg\",0)\n",
    "img=cv2.resize(img,(300,300))\n",
    "\n",
    "\n",
    "# lapalac therom parameter are Laplacian(img,data type for -ve value,ksize(kernal size only odd value ))\n",
    "# ksize is optional\n",
    "lap=cv2.Laplacian(img,cv2.CV_64F,)\n",
    "lap=np.uint8(np.absolute(lap))\n",
    "\n",
    "# sobel X and Y parameter Sobel((img,data type for -ve vlaue,x,y,ksize))\n",
    "sobelx=cv2.Sobel(img,cv2.CV_64F,1,0,)\n",
    "sobely=cv2.Sobel(img,cv2.CV_64F,0,1,)\n",
    "\n",
    "# combination of sobel x and y\n",
    "sobelxy=cv2.cv2.bitwise_or(sobelx,sobely)\n",
    "\n",
    "\n",
    "cv2.imshow(\"avenger\",img)\n",
    "cv2.imshow(\"laplas\",lap)\n",
    "cv2.imshow(\"sobelx\",sobelx)\n",
    "cv2.imshow(\"sobely\",sobely)\n",
    "cv2.imshow(\"combine\",sobelxy)\n",
    "cv2.waitKey()\n",
    "cv2.destroyAllWindows()"
   ]
  },
  {
   "cell_type": "code",
   "execution_count": null,
   "metadata": {},
   "outputs": [],
   "source": []
  },
  {
   "cell_type": "code",
   "execution_count": null,
   "metadata": {},
   "outputs": [],
   "source": []
  }
 ],
 "metadata": {
  "kernelspec": {
   "display_name": "Python 3",
   "language": "python",
   "name": "python3"
  },
  "language_info": {
   "codemirror_mode": {
    "name": "ipython",
    "version": 3
   },
   "file_extension": ".py",
   "mimetype": "text/x-python",
   "name": "python",
   "nbconvert_exporter": "python",
   "pygments_lexer": "ipython3",
   "version": "3.7.6"
  }
 },
 "nbformat": 4,
 "nbformat_minor": 4
}
